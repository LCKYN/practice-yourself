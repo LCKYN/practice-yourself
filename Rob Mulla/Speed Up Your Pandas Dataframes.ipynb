{
 "cells": [
  {
   "cell_type": "markdown",
   "metadata": {},
   "source": [
    "# Efficient Memory use in Pandas\n"
   ]
  },
  {
   "cell_type": "code",
   "execution_count": 27,
   "metadata": {},
   "outputs": [],
   "source": [
    "import numpy as np\n",
    "import pandas as pd"
   ]
  },
  {
   "cell_type": "markdown",
   "metadata": {},
   "source": [
    "# Create our Data\n"
   ]
  },
  {
   "cell_type": "code",
   "execution_count": 28,
   "metadata": {},
   "outputs": [],
   "source": [
    "def get_data(size=1_000_000):\n",
    "    df = pd.DataFrame()\n",
    "\n",
    "    df[\"position\"] = np.random.choice([\"left\", \"middel\", \"right\"], size)\n",
    "    df[\"age\"] = np.random.randint(1, 50, size)\n",
    "    df[\"team\"] = np.random.choice([\"rad\", \"blue\", \"yellow\", \"green\"], size)\n",
    "    df[\"win\"] = np.random.choice([\"yes\", \"no\"], size)\n",
    "    df[\"prob\"] = np.random.uniform(0, 1, size)\n",
    "\n",
    "    return df"
   ]
  },
  {
   "cell_type": "code",
   "execution_count": 29,
   "metadata": {},
   "outputs": [],
   "source": [
    "df = get_data()"
   ]
  },
  {
   "cell_type": "code",
   "execution_count": 30,
   "metadata": {},
   "outputs": [
    {
     "name": "stdout",
     "output_type": "stream",
     "text": [
      "<class 'pandas.core.frame.DataFrame'>\n",
      "RangeIndex: 1000000 entries, 0 to 999999\n",
      "Data columns (total 5 columns):\n",
      " #   Column    Non-Null Count    Dtype  \n",
      "---  ------    --------------    -----  \n",
      " 0   position  1000000 non-null  object \n",
      " 1   age       1000000 non-null  int32  \n",
      " 2   team      1000000 non-null  object \n",
      " 3   win       1000000 non-null  object \n",
      " 4   prob      1000000 non-null  float64\n",
      "dtypes: float64(1), int32(1), object(3)\n",
      "memory usage: 34.3+ MB\n"
     ]
    }
   ],
   "source": [
    "df.info()"
   ]
  },
  {
   "cell_type": "code",
   "execution_count": 31,
   "metadata": {},
   "outputs": [],
   "source": [
    "df = get_data()"
   ]
  },
  {
   "cell_type": "code",
   "execution_count": 32,
   "metadata": {},
   "outputs": [
    {
     "name": "stdout",
     "output_type": "stream",
     "text": [
      "209 ms ± 13.8 ms per loop (mean ± std. dev. of 7 runs, 1 loop each)\n",
      "263 ms ± 11 ms per loop (mean ± std. dev. of 7 runs, 1 loop each)\n",
      "304 ms ± 14.3 ms per loop (mean ± std. dev. of 7 runs, 1 loop each)\n"
     ]
    }
   ],
   "source": [
    "%timeit df[\"age_rank\"] = df.groupby([\"team\", \"position\"])[\"age\"].rank()\n",
    "%timeit df[\"age_rank\"] = df.groupby([\"team\", \"position\"])[\"prob\"].rank()\n",
    "%timeit df[\"wim_prob_rank\"] = df.groupby([\"team\", \"position\",\"win\"])[\"prob\"].rank()"
   ]
  },
  {
   "cell_type": "code",
   "execution_count": 38,
   "metadata": {},
   "outputs": [],
   "source": [
    "def set_dtype(df):\n",
    "    df[\"position\"] = df[\"position\"].astype(\"category\")\n",
    "    df[\"team\"] = df[\"team\"].astype(\"category\")\n",
    "    df[\"age\"] = df[\"age\"].astype(\"int8\")\n",
    "    df[\"prob\"] = df[\"prob\"].astype(\"float16\")\n",
    "    df[\"win\"] = df[\"win\"].map({\"yes\": True, \"no\": False}).astype(\"bool\")\n",
    "\n",
    "    return df"
   ]
  },
  {
   "cell_type": "code",
   "execution_count": 58,
   "metadata": {},
   "outputs": [
    {
     "name": "stdout",
     "output_type": "stream",
     "text": [
      "74.7 ms ± 1.49 ms per loop (mean ± std. dev. of 7 runs, 10 loops each)\n"
     ]
    }
   ],
   "source": [
    "df = get_data()\n",
    "%timeit set_dtype(df)\n",
    "df = set_dtype(df)"
   ]
  },
  {
   "cell_type": "code",
   "execution_count": 59,
   "metadata": {},
   "outputs": [
    {
     "name": "stdout",
     "output_type": "stream",
     "text": [
      "<class 'pandas.core.frame.DataFrame'>\n",
      "RangeIndex: 1000000 entries, 0 to 999999\n",
      "Data columns (total 5 columns):\n",
      " #   Column    Non-Null Count    Dtype   \n",
      "---  ------    --------------    -----   \n",
      " 0   position  1000000 non-null  category\n",
      " 1   age       1000000 non-null  int8    \n",
      " 2   team      1000000 non-null  category\n",
      " 3   win       1000000 non-null  bool    \n",
      " 4   prob      1000000 non-null  float16 \n",
      "dtypes: bool(1), category(2), float16(1), int8(1)\n",
      "memory usage: 5.7 MB\n"
     ]
    }
   ],
   "source": [
    "df.info()"
   ]
  },
  {
   "cell_type": "code",
   "execution_count": 60,
   "metadata": {},
   "outputs": [
    {
     "name": "stdout",
     "output_type": "stream",
     "text": [
      "139 ms ± 5.93 ms per loop (mean ± std. dev. of 7 runs, 10 loops each)\n",
      "178 ms ± 5.44 ms per loop (mean ± std. dev. of 7 runs, 10 loops each)\n",
      "184 ms ± 4.02 ms per loop (mean ± std. dev. of 7 runs, 10 loops each)\n"
     ]
    }
   ],
   "source": [
    "%timeit df[\"age_rank\"] = df.groupby([\"team\", \"position\"])[\"age\"].rank()\n",
    "%timeit df[\"age_rank\"] = df.groupby([\"team\", \"position\"])[\"prob\"].rank()\n",
    "%timeit df[\"wim_prob_rank\"] = df.groupby([\"team\", \"position\",\"win\"])[\"prob\"].rank()"
   ]
  },
  {
   "cell_type": "markdown",
   "metadata": {},
   "source": [
    "# Extra"
   ]
  },
  {
   "cell_type": "code",
   "execution_count": 61,
   "metadata": {},
   "outputs": [
    {
     "name": "stdout",
     "output_type": "stream",
     "text": [
      "72.4 ms ± 749 µs per loop (mean ± std. dev. of 7 runs, 10 loops each)\n",
      "58.1 ms ± 173 µs per loop (mean ± std. dev. of 7 runs, 10 loops each)\n",
      "67.3 ms ± 555 µs per loop (mean ± std. dev. of 7 runs, 10 loops each)\n"
     ]
    }
   ],
   "source": [
    "%timeit df[\"win_temp1\"] = df[\"win\"].map({\"yes\": True, \"no\": False}).astype(\"bool\")\n",
    "%timeit df[\"win_temp2\"] = df[\"win\"].apply(lambda x: x == \"yes\").astype(\"bool\")\n",
    "%timeit df[\"win_temp3\"] = pd.Series([i == \"yes\" for i in df[\"win\"]], dtype=\"bool\")"
   ]
  },
  {
   "cell_type": "code",
   "execution_count": 62,
   "metadata": {},
   "outputs": [
    {
     "name": "stdout",
     "output_type": "stream",
     "text": [
      "184 µs ± 4.3 µs per loop (mean ± std. dev. of 7 runs, 10,000 loops each)\n"
     ]
    }
   ],
   "source": [
    "%%timeit \n",
    "df[\"win_temp4\"] = False\n",
    "df.loc[df[\"win\"] == \"yes\", \"win_temp4\"] = True"
   ]
  },
  {
   "cell_type": "code",
   "execution_count": 64,
   "metadata": {},
   "outputs": [
    {
     "name": "stdout",
     "output_type": "stream",
     "text": [
      "<class 'pandas.core.frame.DataFrame'>\n",
      "RangeIndex: 1000000 entries, 0 to 999999\n",
      "Data columns (total 11 columns):\n",
      " #   Column         Non-Null Count    Dtype   \n",
      "---  ------         --------------    -----   \n",
      " 0   position       1000000 non-null  category\n",
      " 1   age            1000000 non-null  int8    \n",
      " 2   team           1000000 non-null  category\n",
      " 3   win            1000000 non-null  bool    \n",
      " 4   prob           1000000 non-null  float16 \n",
      " 5   age_rank       1000000 non-null  float64 \n",
      " 6   wim_prob_rank  1000000 non-null  float64 \n",
      " 7   win_temp1      1000000 non-null  bool    \n",
      " 8   win_temp2      1000000 non-null  bool    \n",
      " 9   win_temp3      1000000 non-null  bool    \n",
      " 10  win_temp4      1000000 non-null  bool    \n",
      "dtypes: bool(5), category(2), float16(1), float64(2), int8(1)\n",
      "memory usage: 24.8 MB\n"
     ]
    }
   ],
   "source": [
    "df.info()"
   ]
  },
  {
   "cell_type": "code",
   "execution_count": null,
   "metadata": {},
   "outputs": [],
   "source": []
  }
 ],
 "metadata": {
  "kernelspec": {
   "display_name": "Python 3.9.12 ('base')",
   "language": "python",
   "name": "python3"
  },
  "language_info": {
   "codemirror_mode": {
    "name": "ipython",
    "version": 3
   },
   "file_extension": ".py",
   "mimetype": "text/x-python",
   "name": "python",
   "nbconvert_exporter": "python",
   "pygments_lexer": "ipython3",
   "version": "3.9.12"
  },
  "orig_nbformat": 4,
  "vscode": {
   "interpreter": {
    "hash": "ad2bdc8ecc057115af97d19610ffacc2b4e99fae6737bb82f5d7fb13d2f2c186"
   }
  }
 },
 "nbformat": 4,
 "nbformat_minor": 2
}
