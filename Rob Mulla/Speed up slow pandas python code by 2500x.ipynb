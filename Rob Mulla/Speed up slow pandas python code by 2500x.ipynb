{
 "cells": [
  {
   "cell_type": "markdown",
   "metadata": {},
   "source": [
    "# Speed up your Pandas Code!\n"
   ]
  },
  {
   "cell_type": "code",
   "execution_count": 1,
   "metadata": {},
   "outputs": [],
   "source": [
    "import numpy as np\n",
    "import pandas as pd"
   ]
  },
  {
   "cell_type": "markdown",
   "metadata": {},
   "source": [
    "# Create our dataset.\n"
   ]
  },
  {
   "cell_type": "code",
   "execution_count": 17,
   "metadata": {},
   "outputs": [],
   "source": [
    "def get_data(size=10_000):\n",
    "    df = pd.DataFrame()\n",
    "\n",
    "    df[\"age\"] = np.random.randint(0, 100, size)\n",
    "    df[\"time_in_bed\"] = np.random.randint(0, 9, size)\n",
    "    df[\"pct_sleeping\"] = np.random.rand(size)\n",
    "    df[\"favorite_food\"] = np.random.choice([\"pizza\", \"taco\", \"ice-cream\"], size)\n",
    "    df[\"hate_food\"] = np.random.choice([\"broccoli\", \"candy corn\", \"eggs\"], size)\n",
    "\n",
    "    return df"
   ]
  },
  {
   "cell_type": "markdown",
   "metadata": {},
   "source": [
    "# The problem.\n",
    "\n",
    "Reward calculation:\n",
    "\n",
    "- If they in bed for more than 5 hours AND they were sleeping for more than 50% we give them their favorite food.\n",
    "- Otherwise we give them their hate food.\n",
    "- If they are over 90 years old give their favorite food regardless.\n"
   ]
  },
  {
   "cell_type": "code",
   "execution_count": 20,
   "metadata": {},
   "outputs": [],
   "source": [
    "def reward_cal(row):\n",
    "    if row[\"age\"] >= 90:\n",
    "        return row[\"favorite_food\"]\n",
    "    if (row[\"time_in_bed\"] > 5) & (row[\"pct_sleeping\"] > 0.5):\n",
    "        return row[\"favorite_food\"]\n",
    "    return row[\"hate_food\"]"
   ]
  },
  {
   "cell_type": "markdown",
   "metadata": {},
   "source": [
    "# Level 1 - Loop\n"
   ]
  },
  {
   "cell_type": "code",
   "execution_count": 25,
   "metadata": {},
   "outputs": [],
   "source": [
    "df = get_data()"
   ]
  },
  {
   "cell_type": "code",
   "execution_count": 26,
   "metadata": {},
   "outputs": [
    {
     "name": "stdout",
     "output_type": "stream",
     "text": [
      "502 ms ± 8.46 ms per loop (mean ± std. dev. of 7 runs, 1 loop each)\n"
     ]
    }
   ],
   "source": [
    "%%timeit\n",
    "for index, row in df.iterrows():\n",
    "    df.loc[index,\"reward\"] = reward_cal(row)"
   ]
  },
  {
   "cell_type": "markdown",
   "metadata": {},
   "source": [
    "# Level 2 - Apply\n"
   ]
  },
  {
   "cell_type": "code",
   "execution_count": 27,
   "metadata": {},
   "outputs": [],
   "source": [
    "df = get_data()"
   ]
  },
  {
   "cell_type": "code",
   "execution_count": 29,
   "metadata": {},
   "outputs": [
    {
     "name": "stdout",
     "output_type": "stream",
     "text": [
      "78.7 ms ± 1.42 ms per loop (mean ± std. dev. of 7 runs, 10 loops each)\n"
     ]
    }
   ],
   "source": [
    "%%timeit\n",
    "df[\"reward\"] = df.apply(reward_cal, axis=1)"
   ]
  },
  {
   "cell_type": "markdown",
   "metadata": {},
   "source": [
    "# Level 3 - Vectorized\n"
   ]
  },
  {
   "cell_type": "code",
   "execution_count": null,
   "metadata": {},
   "outputs": [],
   "source": [
    "df = get_data()"
   ]
  },
  {
   "cell_type": "code",
   "execution_count": 34,
   "metadata": {},
   "outputs": [
    {
     "name": "stdout",
     "output_type": "stream",
     "text": [
      "554 µs ± 19 µs per loop (mean ± std. dev. of 7 runs, 1,000 loops each)\n"
     ]
    }
   ],
   "source": [
    "%%timeit\n",
    "\n",
    "df[\"reward\"] = df[\"hate_food\"]\n",
    "\n",
    "old_man_condition = df[\"age\"] > 90\n",
    "young_man_condition = (df[\"pct_sleeping\"] > 0.5) & df[\"time_in_bed\"] > 5\n",
    "\n",
    "df.loc[young_man_condition | old_man_condition, \"reward\"] = df[\"favorite_food\"]"
   ]
  },
  {
   "cell_type": "markdown",
   "metadata": {},
   "source": [
    "# Extra"
   ]
  },
  {
   "cell_type": "code",
   "execution_count": null,
   "metadata": {},
   "outputs": [],
   "source": [
    "df = get_data()"
   ]
  },
  {
   "cell_type": "code",
   "execution_count": 35,
   "metadata": {},
   "outputs": [
    {
     "name": "stderr",
     "output_type": "stream",
     "text": [
      "<magic-timeit>:6: SettingWithCopyWarning: \n",
      "A value is trying to be set on a copy of a slice from a DataFrame.\n",
      "Try using .loc[row_indexer,col_indexer] = value instead\n",
      "\n",
      "See the caveats in the documentation: https://pandas.pydata.org/pandas-docs/stable/user_guide/indexing.html#returning-a-view-versus-a-copy\n"
     ]
    },
    {
     "name": "stdout",
     "output_type": "stream",
     "text": [
      "6.25 ms ± 214 µs per loop (mean ± std. dev. of 7 runs, 100 loops each)\n"
     ]
    }
   ],
   "source": [
    "%%timeit\n",
    "\n",
    "df[\"reward\"] = df[\"hate_food\"]\n",
    "\n",
    "old_man_condition = df[\"age\"] > 90\n",
    "young_man_condition = (df[\"pct_sleeping\"] > 0.5) & df[\"time_in_bed\"] > 5\n",
    "\n",
    "df[young_man_condition | old_man_condition][\"reward\"] = df[\"favorite_food\"]"
   ]
  },
  {
   "cell_type": "code",
   "execution_count": null,
   "metadata": {},
   "outputs": [],
   "source": []
  }
 ],
 "metadata": {
  "kernelspec": {
   "display_name": "Python 3.9.12 ('base')",
   "language": "python",
   "name": "python3"
  },
  "language_info": {
   "codemirror_mode": {
    "name": "ipython",
    "version": 3
   },
   "file_extension": ".py",
   "mimetype": "text/x-python",
   "name": "python",
   "nbconvert_exporter": "python",
   "pygments_lexer": "ipython3",
   "version": "3.9.12"
  },
  "orig_nbformat": 4,
  "vscode": {
   "interpreter": {
    "hash": "ad2bdc8ecc057115af97d19610ffacc2b4e99fae6737bb82f5d7fb13d2f2c186"
   }
  }
 },
 "nbformat": 4,
 "nbformat_minor": 2
}
